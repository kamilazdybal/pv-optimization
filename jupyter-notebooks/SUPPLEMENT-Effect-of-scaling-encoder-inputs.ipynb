{
 "cells": [
  {
   "cell_type": "markdown",
   "metadata": {},
   "source": [
    "<a id=top-page></a>\n",
    "\n",
    "<h1>\n",
    "<center>\n",
    "→ Effect of scaling encoder inputs (mass fractions)\n",
    "</center>\n",
    "</h1>\n",
    "\n",
    "<h3>\n",
    "<center>\n",
    "📄 Optimizing progress variables for ammonia/hydrogen combustion using encoding-decoding networks\n",
    "</center>\n",
    "</h3>\n",
    "\n",
    "<center>\n",
    "K. Zdybał, J. C. Sutherland, A. Parente, Combustion and Flame (2024)\n",
    "</center>\n",
    "\n",
    "<div class=\"alert alert-block alert-info\" style=\"margin-top: 20px\">\n",
    "<font size=\"3\"><strong>Table of contents:</strong></font>\n",
    "<br>\n",
    "<ol>\n",
    "    <li><a href=\"#cost-function-hp\">Specify the cost function's hyper-parameters</a></li>\n",
    "    <li><a href=\"#optimized-PV\">Parameterization with the optimized PV and no scaling</a></li>\n",
    "    <li><a href=\"#optimized-PV\">Parameterization with the optimized PV and $\\langle 0,1 \\rangle$ scaling</a></li>\n",
    "    <li><a href=\"#Li\">Visualize the effect of scaling</a></li>\n",
    "</ol>\n",
    "<p></p>\n",
    "</div>\n",
    "<br>\n",
    "\n",
    "***"
   ]
  },
  {
   "cell_type": "code",
   "execution_count": 1,
   "metadata": {},
   "outputs": [
    {
     "name": "stdout",
     "output_type": "stream",
     "text": [
      "Python==3.10.13\n",
      "\n",
      "numpy==1.26.2\n",
      "pandas==2.1.3\n",
      "scipy==1.11.4\n",
      "scikit-learn==1.3.2\n",
      "PCAfold==2.2.0\n"
     ]
    }
   ],
   "source": [
    "%run -i imports.py\n",
    "%matplotlib inline"
   ]
  },
  {
   "cell_type": "code",
   "execution_count": 2,
   "metadata": {},
   "outputs": [
    {
     "name": "stdout",
     "output_type": "stream",
     "text": [
      "\n",
      "Using: T, H2, O2, H2O, OH, NO as target state variables at the decoder output.\n",
      "\n",
      "24150 observations\n",
      "29 state variables\n"
     ]
    }
   ],
   "source": [
    "data_type = 'SLF'\n",
    "data_tag = 'NH3-H2-air-25perc'\n",
    "target_variables_indices = [0,1,3,5,6,9]\n",
    "pure_streams = True\n",
    "\n",
    "%run -i ../scripts/ammonia-Stagni-load-data.py"
   ]
  },
  {
   "cell_type": "markdown",
   "metadata": {},
   "source": [
    "<a id=cost-function-hp></a>\n",
    "***\n",
    "\n",
    "## Specify the cost function's hyper-parameters\n",
    "\n",
    "[**Go to the top ↑**](#top-page)"
   ]
  },
  {
   "cell_type": "code",
   "execution_count": 3,
   "metadata": {},
   "outputs": [],
   "source": [
    "power = 4\n",
    "vertical_shift = 1\n",
    "penalty_function = 'log-sigma-over-peak'"
   ]
  },
  {
   "cell_type": "code",
   "execution_count": 4,
   "metadata": {},
   "outputs": [],
   "source": [
    "random_seeds_list = [i for i in range(0,20)]"
   ]
  },
  {
   "cell_type": "markdown",
   "metadata": {},
   "source": [
    "<a id=optimized-PV></a>\n",
    "\n",
    "***\n",
    "\n",
    "## Parameterization with the optimized PV and no scaling\n",
    "\n",
    "[**Go to the top ↑**](#top-page)"
   ]
  },
  {
   "cell_type": "code",
   "execution_count": 5,
   "metadata": {},
   "outputs": [],
   "source": [
    "costs_L2_none = []\n",
    "costs_PV_source_none = []\n",
    "\n",
    "for random_seed in random_seeds_list:\n",
    "    variance_data = pickle.load(open('../results-paper/f-PV-tps-SLF-NH3-H2-air-25perc-target-T-H2-O2-H2O-OH-NO-RandomNormal-e-500000-CD-300000-lr-0.01-alr-0.001-scale-none-darch-0-10-10-rho-0.9-mom-0.5-momcent-no-VD-for-T-H2-H-O2-O-H2O-OH-H2O2-NO-N2O-NO2-NH2-PV-source-rs-' + str(random_seed) + '.pkl', 'rb'))\n",
    "    costs = analysis.cost_function_normalized_variance_derivative(variance_data,\n",
    "                                                                  penalty_function=penalty_function,\n",
    "                                                                  norm=None,\n",
    "                                                                  power=power,\n",
    "                                                                  vertical_shift=vertical_shift,\n",
    "                                                                  integrate_to_peak=False)\n",
    "     \n",
    "    costs_L2_none.append(np.linalg.norm(costs)/len(costs))\n",
    "    costs_PV_source_none.append(costs[-1])"
   ]
  },
  {
   "cell_type": "code",
   "execution_count": 6,
   "metadata": {},
   "outputs": [
    {
     "data": {
      "text/plain": [
       "array([10])"
      ]
     },
     "execution_count": 6,
     "metadata": {},
     "output_type": "execute_result"
    }
   ],
   "source": [
    "idx_optimized_basis, = np.where(costs_L2_none==np.min(costs_L2_none))\n",
    "idx_optimized_basis"
   ]
  },
  {
   "cell_type": "code",
   "execution_count": 7,
   "metadata": {},
   "outputs": [],
   "source": [
    "model_weights_filename = '../results-paper/f-PV-tps-SLF-NH3-H2-air-25perc-target-T-H2-O2-H2O-OH-NO-RandomNormal-e-500000-CD-300000-lr-0.01-alr-0.001-scale-none-darch-0-10-10-rho-0.9-mom-0.5-momcent-no-best-model-weights-rs-' + str(idx_optimized_basis[0]) + '.h5'"
   ]
  },
  {
   "cell_type": "code",
   "execution_count": 8,
   "metadata": {},
   "outputs": [],
   "source": [
    "hf = h5py.File(model_weights_filename, 'r')\n",
    "optimized_basis = np.array(hf.get('0'))\n",
    "hf.close()"
   ]
  },
  {
   "cell_type": "code",
   "execution_count": 9,
   "metadata": {},
   "outputs": [],
   "source": [
    "PV_optimized = np.dot(state_space[:,1::], optimized_basis)\n",
    "PV_optimized_source = np.dot(state_space_sources[:,1::], optimized_basis)"
   ]
  },
  {
   "cell_type": "code",
   "execution_count": 10,
   "metadata": {},
   "outputs": [],
   "source": [
    "VarianceData_optimized = pickle.load(open('../results-paper/f-PV-tps-SLF-NH3-H2-air-25perc-target-T-H2-O2-H2O-OH-NO-RandomNormal-e-500000-CD-300000-lr-0.01-alr-0.001-scale-none-darch-0-10-10-rho-0.9-mom-0.5-momcent-no-VD-for-T-H2-H-O2-O-H2O-OH-H2O2-NO-N2O-NO2-NH2-PV-source-rs-' + str(idx_optimized_basis[0]) + '.pkl', 'rb'))"
   ]
  },
  {
   "cell_type": "code",
   "execution_count": 11,
   "metadata": {},
   "outputs": [],
   "source": [
    "sigmas_optimized = VarianceData_optimized.bandwidth_values\n",
    "D_hat_optimized = analysis.normalized_variance_derivative(VarianceData_optimized)"
   ]
  },
  {
   "cell_type": "code",
   "execution_count": 12,
   "metadata": {},
   "outputs": [
    {
     "data": {
      "text/plain": [
       "0.37640366657535396"
      ]
     },
     "execution_count": 12,
     "metadata": {},
     "output_type": "execute_result"
    }
   ],
   "source": [
    "costs_optimized = analysis.cost_function_normalized_variance_derivative(VarianceData_optimized,\n",
    "                                                              penalty_function=penalty_function,\n",
    "                                                              norm=None,\n",
    "                                                              power=power,\n",
    "                                                              vertical_shift=vertical_shift,\n",
    "                                                              integrate_to_peak=False)\n",
    "\n",
    "L2_norm_cost_optimized = np.linalg.norm(costs_optimized)/len(costs_optimized)\n",
    "L2_norm_cost_optimized"
   ]
  },
  {
   "cell_type": "markdown",
   "metadata": {},
   "source": [
    "<a id=optimized-PV></a>\n",
    "\n",
    "***\n",
    "\n",
    "## Parameterization with the optimized PV and $\\langle 0,1 \\rangle$ scaling\n",
    "\n",
    "[**Go to the top ↑**](#top-page)"
   ]
  },
  {
   "cell_type": "code",
   "execution_count": 13,
   "metadata": {},
   "outputs": [],
   "source": [
    "costs_L2_0to1 = []\n",
    "costs_PV_source_0to1 = []\n",
    "\n",
    "for random_seed in random_seeds_list:\n",
    "    variance_data = pickle.load(open('../results-0to1-scaling/f-PV-tps-SLF-NH3-H2-air-25perc-target-T-H2-O2-H2O-OH-NO-RandomNormal-e-500000-CD-300000-lr-0.01-alr-0.001-scale-0to1-darch-0-10-10-rho-0.9-mom-0.5-momcent-no-VD-for-T-H2-H-O2-O-H2O-OH-H2O2-NO-N2O-NO2-NH2-PV-source-rs-' + str(random_seed) + '.pkl', 'rb'))\n",
    "    costs = analysis.cost_function_normalized_variance_derivative(variance_data,\n",
    "                                                                  penalty_function=penalty_function,\n",
    "                                                                  norm=None,\n",
    "                                                                  power=power,\n",
    "                                                                  vertical_shift=vertical_shift,\n",
    "                                                                  integrate_to_peak=False)\n",
    "     \n",
    "    costs_L2_0to1.append(np.linalg.norm(costs)/len(costs))\n",
    "    costs_PV_source_0to1.append(costs[-1])"
   ]
  },
  {
   "cell_type": "code",
   "execution_count": 14,
   "metadata": {},
   "outputs": [
    {
     "data": {
      "text/plain": [
       "array([18])"
      ]
     },
     "execution_count": 14,
     "metadata": {},
     "output_type": "execute_result"
    }
   ],
   "source": [
    "idx_optimized_basis, = np.where(costs_L2_0to1==np.min(costs_L2_0to1))\n",
    "idx_optimized_basis"
   ]
  },
  {
   "cell_type": "code",
   "execution_count": 15,
   "metadata": {},
   "outputs": [],
   "source": [
    "model_weights_filename = '../results-0to1-scaling/f-PV-tps-SLF-NH3-H2-air-25perc-target-T-H2-O2-H2O-OH-NO-RandomNormal-e-500000-CD-300000-lr-0.01-alr-0.001-scale-0to1-darch-0-10-10-rho-0.9-mom-0.5-momcent-no-best-model-weights-rs-' + str(idx_optimized_basis[0]) + '.h5'"
   ]
  },
  {
   "cell_type": "code",
   "execution_count": 16,
   "metadata": {},
   "outputs": [],
   "source": [
    "hf = h5py.File(model_weights_filename, 'r')\n",
    "optimized_basis = np.array(hf.get('0'))\n",
    "hf.close()"
   ]
  },
  {
   "cell_type": "code",
   "execution_count": 17,
   "metadata": {},
   "outputs": [],
   "source": [
    "PV_optimized = np.dot(state_space[:,1::], optimized_basis)\n",
    "PV_optimized_source = np.dot(state_space_sources[:,1::], optimized_basis)"
   ]
  },
  {
   "cell_type": "code",
   "execution_count": 18,
   "metadata": {},
   "outputs": [],
   "source": [
    "VarianceData_optimized = pickle.load(open('../results-0to1-scaling/f-PV-tps-SLF-NH3-H2-air-25perc-target-T-H2-O2-H2O-OH-NO-RandomNormal-e-500000-CD-300000-lr-0.01-alr-0.001-scale-0to1-darch-0-10-10-rho-0.9-mom-0.5-momcent-no-VD-for-T-H2-H-O2-O-H2O-OH-H2O2-NO-N2O-NO2-NH2-PV-source-rs-' + str(idx_optimized_basis[0]) + '.pkl', 'rb'))"
   ]
  },
  {
   "cell_type": "code",
   "execution_count": 19,
   "metadata": {},
   "outputs": [],
   "source": [
    "sigmas_optimized = VarianceData_optimized.bandwidth_values\n",
    "D_hat_optimized = analysis.normalized_variance_derivative(VarianceData_optimized)"
   ]
  },
  {
   "cell_type": "code",
   "execution_count": 20,
   "metadata": {},
   "outputs": [
    {
     "data": {
      "text/plain": [
       "0.4215525910038031"
      ]
     },
     "execution_count": 20,
     "metadata": {},
     "output_type": "execute_result"
    }
   ],
   "source": [
    "costs_optimized = analysis.cost_function_normalized_variance_derivative(VarianceData_optimized,\n",
    "                                                              penalty_function=penalty_function,\n",
    "                                                              norm=None,\n",
    "                                                              power=power,\n",
    "                                                              vertical_shift=vertical_shift,\n",
    "                                                              integrate_to_peak=False)\n",
    "\n",
    "L2_norm_cost_optimized = np.linalg.norm(costs_optimized)/len(costs_optimized)\n",
    "L2_norm_cost_optimized"
   ]
  },
  {
   "cell_type": "markdown",
   "metadata": {},
   "source": [
    "***\n",
    "\n",
    "## Visualize the effect of scaling"
   ]
  },
  {
   "cell_type": "code",
   "execution_count": 21,
   "metadata": {},
   "outputs": [],
   "source": [
    "costs_collected = np.array([costs_L2_none, costs_L2_0to1]).T\n",
    "costs_collected_PV_source = np.array([costs_PV_source_none, costs_PV_source_0to1]).T"
   ]
  },
  {
   "cell_type": "code",
   "execution_count": 22,
   "metadata": {},
   "outputs": [
    {
     "data": {
      "image/png": "[encoded data removed]",
      "text/plain": [
       "<Figure size 600x350 with 1 Axes>"
      ]
     },
     "metadata": {},
     "output_type": "display_data"
    }
   ],
   "source": [
    "figure = plt.figure(figsize=(6, 3.5))\n",
    "xrange = [i for i in range(1,3)]\n",
    "box_plot = plt.boxplot(costs_collected, zorder=20, boxprops=dict(facecolor='#cccccc'), patch_artist=True)\n",
    "\n",
    "for median in box_plot['medians']:\n",
    "    median.set_color('red')\n",
    "    median.set_linewidth(2)\n",
    "\n",
    "plt.ylabel('$\\mathcal{L}^{(M)}$ [$-$]', fontsize=20, horizontalalignment='right');\n",
    "plt.yscale('log')\n",
    "plt.xlim([0,3])\n",
    "plt.xticks(xrange, ['No scaling', r'$\\langle0, 1 \\rangle$ scaling'], rotation=0, fontsize=14, zorder=10);\n",
    "plt.yticks(fontsize=9)\n",
    "\n",
    "plt.savefig('../paper/supplementary-figures/effect-of-scaling-averaged-cost.pdf', dpi=500, bbox_inches='tight')"
   ]
  },
  {
   "cell_type": "code",
   "execution_count": 23,
   "metadata": {},
   "outputs": [
    {
     "data": {
      "image/png": "[encoded data removed]",
      "text/plain": [
       "<Figure size 600x350 with 1 Axes>"
      ]
     },
     "metadata": {},
     "output_type": "display_data"
    }
   ],
   "source": [
    "figure = plt.figure(figsize=(6, 3.5))\n",
    "xrange = [i for i in range(1,3)]\n",
    "box_plot = plt.boxplot(costs_collected_PV_source, zorder=20, boxprops=dict(facecolor='#cccccc'), patch_artist=True)\n",
    "\n",
    "for median in box_plot['medians']:\n",
    "    median.set_color('red')\n",
    "    median.set_linewidth(2)\n",
    "\n",
    "plt.ylabel('$\\mathcal{L}_{\\dot{\\omega}_{PV} / \\\\rho}$ [$-$]', fontsize=20, horizontalalignment='right');\n",
    "plt.yscale('log')\n",
    "plt.xlim([0,3])\n",
    "plt.xticks(xrange, ['No scaling', r'$\\langle0, 1 \\rangle$ scaling'], rotation=0, fontsize=14, zorder=10);\n",
    "plt.yticks(fontsize=9)\n",
    "\n",
    "plt.savefig('../paper/supplementary-figures/effect-of-scaling-PV-source-cost.pdf', dpi=500, bbox_inches='tight')"
   ]
  },
  {
   "cell_type": "markdown",
   "metadata": {},
   "source": [
    "***\n",
    "\n",
    "© K. Zdybał, J. C. Sutherland, A. Parente, Combustion and Flame (2024)"
   ]
  }
 ],
 "metadata": {
  "kernelspec": {
   "display_name": "Python 3 (ipykernel)",
   "language": "python",
   "name": "python3"
  },
  "language_info": {
   "codemirror_mode": {
    "name": "ipython",
    "version": 3
   },
   "file_extension": ".py",
   "mimetype": "text/x-python",
   "name": "python",
   "nbconvert_exporter": "python",
   "pygments_lexer": "ipython3",
   "version": "3.10.13"
  }
 },
 "nbformat": 4,
 "nbformat_minor": 4
}
